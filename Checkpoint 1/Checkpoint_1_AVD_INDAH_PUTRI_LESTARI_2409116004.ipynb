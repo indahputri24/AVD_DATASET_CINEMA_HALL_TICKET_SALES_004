{
  "nbformat": 4,
  "nbformat_minor": 0,
  "metadata": {
    "colab": {
      "provenance": []
    },
    "kernelspec": {
      "name": "python3",
      "display_name": "Python 3"
    },
    "language_info": {
      "name": "python"
    }
  },
  "cells": [
    {
      "cell_type": "markdown",
      "source": [
        "# **BUSSINES UNDERSTUNDING**"
      ],
      "metadata": {
        "id": "lF1t153hdOEq"
      }
    },
    {
      "cell_type": "markdown",
      "source": [
        "# Bussines Objective\n",
        "\n",
        "Tujuan utama proyek ini adalah untuk memahami perilaku pelanggan di gedung bioskop guna meningkatkan retensi pelanggan, strategi pemasaran, dan optimalisasi operasional bioskop. Hal ini meliputi identifikasi penjualan tiket, preferensi genre film, pemilihan kursi, harga tiket, dan pola retensi pelanggan, yang bertujuan untuk menganalisis keterlibatan pelanggan dan faktor-faktor yang mempengaruhi kunjungan berulang ke bioskop."
      ],
      "metadata": {
        "id": "v5YKIvuedrTC"
      }
    },
    {
      "cell_type": "markdown",
      "source": [
        "# Assess Situasion\n",
        "\n",
        "Situasi bisnis yang mendasari analisis ini adalah industri bioskop yang ingin memahami dan mengoptimalkan pengalaman pelanggan untuk meningkatkan retensi pelanggan, penjualan tiket, dan keuntungan secara keseluruhan. Dengan adanya kumpulan data ini yang mencakup pola penjualan dan perilaku pelanggan yang berguna untuk memahami lebih mendalam terkait kebiasaan belanja dan faktor yang mendorong kunjungan berulang, sehingga dapat meningkatkan pengalaman pelanggan untuk mendorong retensi, mengoptimalkan efisiensi operasional, dan merancang strategi pemasaran yang lebih efektif."
      ],
      "metadata": {
        "id": "QhLZnHMgiEJg"
      }
    },
    {
      "cell_type": "markdown",
      "source": [
        "# Data Mining Goals\n",
        "\n",
        "Menganalisis perilaku pelanggan di bioskop yang meliputi pola pembelian tiket, preferensi film, pemilihan kursi, dan harga tiket, serta mengidentifikasi faktor yang mempengaruhi kunjungan berulang guna meningkatkan retensi pelanggan, mengoptimalkan pemasaran, efisiensi operasional, dan meningkatkan pengalaman pelanggan."
      ],
      "metadata": {
        "id": "raYcoLG5qtBV"
      }
    },
    {
      "cell_type": "markdown",
      "source": [
        "# Project Plan\n"
      ],
      "metadata": {
        "id": "dsOxXfYtrLpw"
      }
    },
    {
      "cell_type": "markdown",
      "source": [
        "1.   Pemahaman Data (Data Understunding)\n",
        "*   Mengumpulkan data yang tersedia terkait dengan penjualan tiket dan perilaku pelanggan, seperti genre film, harga tiket, pemilihan kursi, dan data kunjungan berulang.\n",
        "*   Memeriksa dan memastikan bahwa semua data sesuai dan konsisten.\n",
        "*   Eksplorasi data awal untuk memahami karakteristik pola penjualan.\n",
        "\n",
        "2.   Persiapan Data (Data Preparation)\n",
        "*   Menghapus atau mengimputasi data yang hilang dan memperbaiki kesalahan format dalam data.\n",
        "*   Mengubah format data menjadi bentuk yang lebih berguna.\n",
        "\n",
        "3.   Visualisasi\n",
        "*   Memahami pola penjualan dan memvisualisasikan tren penjualan tiket.\n",
        "*   Menganalisis variabel seperti usia, genre film, tipe kursi untuk dapat mengidentifikasi berbagai segmen pelanggan.\n",
        "*   Menganalisis harga tiket dalam kaitannya dengan tipe kursi.\n",
        "*   Menganalisis faktor-faktor yang mempengaruhi kunjungan berulang.\n",
        "\n",
        "4.   Dashboard\n",
        "*   Menyajikan data dari hasil analisis dan membuat sebuah tampilan yang secara cepat untuk memperoleh wawasan tentang perilaku pelanggan guna pengambilan keputusan.\n",
        "\n",
        "5.   Insight and Action\n",
        "\n",
        "  a. Insight\n",
        "*   Identifikasi genre film yang paling diminati oleh pelanggan.\n",
        "*   Faktor yang mempengaruhi perilaku pembelian, seperti harga tiket.\n",
        "*   Analisis mengenai pemilihan kursi yang dapat digunakan untuk meningkatkan pengalaman pelanggan.\n",
        "*   Pola retensi pelanggan dan faktor-faktor yang meningkatkan kunjungan berulang.\n",
        "\n",
        "  b. Action\n",
        "*   Strategi pemasaran yang lebih efektif berdasarkan preferensi genre film.\n",
        "*   Pengoptimalan tempat duduk atau pengalaman penonton untuk meningkatkan kenyamanan pelanggan.\n",
        "*   Melakukan promosi untuk meningkatkan retensi pelanggan.\n",
        "*   Menggunakan data untuk melakukan model yang dapat memprediksi kemungkinan pelanggan untuk melakukan kunjungan berulang.\n",
        "\n",
        "\n",
        "\n",
        "\n",
        "\n",
        "\n",
        "\n",
        "\n",
        "\n",
        "\n",
        "\n",
        "\n",
        "\n",
        "\n"
      ],
      "metadata": {
        "id": "CL12hz1CtSz4"
      }
    }
  ]
}